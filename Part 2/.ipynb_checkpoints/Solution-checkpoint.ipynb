{
 "cells": [
  {
   "cell_type": "code",
   "execution_count": 135,
   "id": "2f57f37d-c7f7-48db-8b26-860f30fb81c4",
   "metadata": {},
   "outputs": [],
   "source": [
    "import pandas as pd\n",
    "import sqlite3\n",
    "import os"
   ]
  },
  {
   "cell_type": "code",
   "execution_count": 136,
   "id": "6578dd5f-bc7d-4252-b9c0-7acb16b266ea",
   "metadata": {},
   "outputs": [],
   "source": [
    "%run \"../Part 2/Dummy Data.ipynb\""
   ]
  },
  {
   "cell_type": "code",
   "execution_count": 137,
   "id": "1aaf47c1-9028-400c-a483-f2e308558047",
   "metadata": {},
   "outputs": [],
   "source": [
    "%run \"../Part 2/Generate Transactions.ipynb\""
   ]
  },
  {
   "cell_type": "code",
   "execution_count": 138,
   "id": "0acc8e5c-973c-412c-b467-73e9eb4c5196",
   "metadata": {},
   "outputs": [],
   "source": [
    "%run \"../Utils.ipynb\""
   ]
  },
  {
   "cell_type": "code",
   "execution_count": 139,
   "id": "000be798-3bc8-4f75-8fc4-d210bbeb242c",
   "metadata": {},
   "outputs": [],
   "source": [
    "connection, cursor = get_connection()"
   ]
  },
  {
   "cell_type": "code",
   "execution_count": 140,
   "id": "4688ed08-1b8b-4552-a859-9205ee5b0f2e",
   "metadata": {},
   "outputs": [],
   "source": [
    "def generate_summary():\n",
    "    cursor.execute(\"DELETE FROM summary WHERE date = date('now')\")\n",
    "    data = pd.read_sql(\"\"\"SELECT SUM(price) AS \"Daily Sales\", COUNT(DISTINCT seller_address) AS Sellers, COUNT(DISTINCT buyer_address) AS Buyers, COUNT(1) AS Transactions, date(timestamp) AS date FROM nft_transactions WHERE date(timestamp) = date('now');\"\"\", con=connection)\n",
    "    data.to_sql(\"summary\", index=False, if_exists=\"append\", con=connection)"
   ]
  },
  {
   "cell_type": "code",
   "execution_count": 141,
   "id": "563f2b69-d05d-4266-8756-2ef3f158f309",
   "metadata": {},
   "outputs": [],
   "source": [
    "def ingest_data(transactions):\n",
    "    print(\"Number of Records to ingest:\", len(transactions))\n",
    "    if len(transactions) == 0:\n",
    "        return\n",
    "    data = pd.DataFrame.from_records(transactions)\n",
    "    data.to_sql(name=\"nft_transactions\", con=connection, if_exists=\"append\", index=False)\n",
    "\n",
    "    timestamp = data[\"timestamp\"].max()\n",
    "    archive_data(timestamp)\n",
    "    generate_summary()\n",
    "    connection.commit()"
   ]
  },
  {
   "cell_type": "code",
   "execution_count": 142,
   "id": "032bfead-f469-4c5f-b7ab-f939acb1e518",
   "metadata": {},
   "outputs": [],
   "source": [
    "def archive_data(timestamp):\n",
    "    if os.path.exists(f\"./archived/{timestamp.strftime('%Y%m%d')}.parquet\"):\n",
    "        return\n",
    "    data = pd.read_sql(f\"SELECT * FROM nft_transactions WHERE timestamp <= date('{timestamp}',  '-30 DAY');\", con=connection)\n",
    "    data.to_parquet(f\"./archived/{timestamp.strftime('%Y%m%d')}.parquet\", index=False)\n",
    "    cursor.execute(f\"DELETE FROM nft_transactions WHERE timestamp <= date('{timestamp}',  '-30 DAY')\")"
   ]
  },
  {
   "cell_type": "code",
   "execution_count": 145,
   "id": "0210cb38-13dc-4f05-b889-bc22fb844c75",
   "metadata": {},
   "outputs": [
    {
     "name": "stdout",
     "output_type": "stream",
     "text": [
      "Number of Records to ingest: 86\n",
      "Number of Records to ingest: 17\n",
      "Number of Records to ingest: 65\n",
      "Number of Records to ingest: 97\n",
      "Number of Records to ingest: 60\n",
      "Number of Records to ingest: 56\n",
      "Number of Records to ingest: 28\n",
      "Number of Records to ingest: 16\n",
      "Number of Records to ingest: 16\n",
      "Number of Records to ingest: 38\n",
      "Number of Records to ingest: 71\n",
      "Number of Records to ingest: 62\n",
      "Number of Records to ingest: 22\n",
      "Number of Records to ingest: 8\n",
      "Number of Records to ingest: 39\n",
      "Number of Records to ingest: 75\n",
      "Number of Records to ingest: 17\n",
      "Number of Records to ingest: 16\n",
      "Number of Records to ingest: 74\n",
      "Number of Records to ingest: 77\n",
      "Number of Records to ingest: 66\n",
      "Number of Records to ingest: 81\n",
      "Number of Records to ingest: 76\n",
      "Number of Records to ingest: 81\n",
      "Number of Records to ingest: 46\n",
      "Number of Records to ingest: 30\n",
      "Number of Records to ingest: 1\n",
      "Number of Records to ingest: 27\n",
      "Number of Records to ingest: 78\n",
      "Number of Records to ingest: 5\n",
      "Number of Records to ingest: 92\n",
      "Number of Records to ingest: 63\n",
      "Number of Records to ingest: 68\n",
      "Number of Records to ingest: 82\n",
      "Number of Records to ingest: 3\n",
      "Number of Records to ingest: 13\n",
      "Number of Records to ingest: 56\n",
      "Number of Records to ingest: 42\n",
      "Number of Records to ingest: 20\n",
      "Number of Records to ingest: 87\n",
      "Number of Records to ingest: 75\n",
      "Number of Records to ingest: 22\n",
      "Number of Records to ingest: 67\n",
      "Number of Records to ingest: 93\n",
      "Number of Records to ingest: 13\n",
      "Number of Records to ingest: 65\n",
      "Number of Records to ingest: 68\n",
      "Number of Records to ingest: 30\n",
      "Number of Records to ingest: 68\n",
      "Number of Records to ingest: 59\n",
      "Number of Records to ingest: 59\n",
      "Number of Records to ingest: 37\n",
      "Number of Records to ingest: 4\n",
      "Number of Records to ingest: 46\n",
      "Number of Records to ingest: 35\n",
      "Number of Records to ingest: 53\n",
      "Stopping the Ingestion\n"
     ]
    }
   ],
   "source": [
    "try:\n",
    "    for transactions in simulate_live_transactions_feed():\n",
    "        ingest_data(transactions)\n",
    "except KeyboardInterrupt:\n",
    "    print(\"Stopping the Ingestion\")"
   ]
  },
  {
   "cell_type": "code",
   "execution_count": null,
   "id": "92aec297-a2a7-4434-b81a-dbc8d04cf3a1",
   "metadata": {},
   "outputs": [],
   "source": []
  }
 ],
 "metadata": {
  "kernelspec": {
   "display_name": "Python 3 (ipykernel)",
   "language": "python",
   "name": "python3"
  },
  "language_info": {
   "codemirror_mode": {
    "name": "ipython",
    "version": 3
   },
   "file_extension": ".py",
   "mimetype": "text/x-python",
   "name": "python",
   "nbconvert_exporter": "python",
   "pygments_lexer": "ipython3",
   "version": "3.11.6"
  }
 },
 "nbformat": 4,
 "nbformat_minor": 5
}
