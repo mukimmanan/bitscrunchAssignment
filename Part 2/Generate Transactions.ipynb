{
 "cells": [
  {
   "cell_type": "code",
   "execution_count": 18,
   "id": "c2eefec1-500d-495d-873e-8c568d0c127c",
   "metadata": {},
   "outputs": [],
   "source": [
    "import random\n",
    "import uuid\n",
    "from datetime import datetime, timedelta\n",
    "import time"
   ]
  },
  {
   "cell_type": "code",
   "execution_count": 19,
   "id": "178fdb25-9568-4adb-aacf-1d11833e41cd",
   "metadata": {},
   "outputs": [],
   "source": [
    "def generate_price(outlier):\n",
    "    if outlier:\n",
    "        return round(random.uniform(20, 30), 2)\n",
    "    return round(random.uniform(1, 10), 2)"
   ]
  },
  {
   "cell_type": "code",
   "execution_count": 20,
   "id": "e8d171eb-fa63-450a-aaab-0b5d2ac102ae",
   "metadata": {},
   "outputs": [],
   "source": [
    "def generate_contract_address(dummy=False):\n",
    "    if dummy:\n",
    "        return dummy_contracts[random.randrange(7)]\n",
    "    return dummy_contracts[random.randrange(len(dummy_contracts))]"
   ]
  },
  {
   "cell_type": "code",
   "execution_count": 21,
   "id": "831b27c1-6bd4-4322-943f-04d8265602f3",
   "metadata": {},
   "outputs": [],
   "source": [
    "def generate_users(dummy=False):\n",
    "    range_val = 7 if dummy else len(dummy_user_addresses)\n",
    "    buyer_idx = random.randrange(range_val)\n",
    "    seller_idx = buyer_idx\n",
    "    while seller_idx == buyer_idx:\n",
    "        seller_idx = random.randrange(range_val)\n",
    "    \n",
    "    return dummy_user_addresses[buyer_idx], dummy_user_addresses[seller_idx]"
   ]
  },
  {
   "cell_type": "code",
   "execution_count": 22,
   "id": "1ba1299f-faca-4a8d-8174-93e3fc72ee79",
   "metadata": {},
   "outputs": [],
   "source": [
    "def generate_chain_id(dummy=False):\n",
    "    if dummy:\n",
    "        return dummy_chains[random.randrange(7)]\n",
    "    return dummy_chains[random.randrange(len(dummy_chains))]"
   ]
  },
  {
   "cell_type": "code",
   "execution_count": 23,
   "id": "18498f4f-357d-4448-ab01-26dbfca63cb2",
   "metadata": {},
   "outputs": [],
   "source": [
    "def generate_tokens():\n",
    "    return tokens[random.randrange(len(tokens))]"
   ]
  },
  {
   "cell_type": "code",
   "execution_count": 24,
   "id": "fc231d2f-bd6e-4ef6-90de-c4a085d4ffc3",
   "metadata": {},
   "outputs": [],
   "source": [
    "def generate_datetime():\n",
    "    return datetime.now() - timedelta(days=random.randrange(10), hours=random.randrange(24))"
   ]
  },
  {
   "cell_type": "code",
   "execution_count": 25,
   "id": "a5911e75-c84b-4518-a998-d12caa2e29c3",
   "metadata": {},
   "outputs": [],
   "source": [
    "def generate_transactions(num_transactions, dummy=False, date=False):\n",
    "    transactions = []\n",
    "    for num in range(num_transactions):\n",
    "        if num > num_transactions - 5:\n",
    "            outlier = True\n",
    "        else:\n",
    "            outlier = False\n",
    "        buyer, seller = generate_users(False)\n",
    "        transaction = {\n",
    "            \"transaction_id\": str(uuid.uuid4()),\n",
    "            \"contract_address\": generate_contract_address(dummy),\n",
    "            \"token_id\": generate_tokens(),\n",
    "            \"buyer_address\": buyer,\n",
    "            \"seller_address\": seller,\n",
    "            \"price\": generate_price(outlier),\n",
    "            \"chain_id\": generate_chain_id(dummy),\n",
    "            \"timestamp\": datetime.now() if date else generate_datetime(),\n",
    "        }\n",
    "        transactions.append(transaction)\n",
    "    return transactions"
   ]
  },
  {
   "cell_type": "code",
   "execution_count": 26,
   "id": "657730af-5c47-4b36-937d-6ef90e9f662f",
   "metadata": {},
   "outputs": [],
   "source": [
    "def simulate_live_transactions_feed():\n",
    "    while True:\n",
    "        num_transactions = random.randrange(100)\n",
    "        transactions = generate_transactions(num_transactions, dummy=False, date=True)\n",
    "        sleep_seconds = random.randrange(4)\n",
    "        time.sleep(sleep_seconds)\n",
    "\n",
    "        yield transactions"
   ]
  },
  {
   "cell_type": "code",
   "execution_count": null,
   "id": "3cf20cdb-468c-4215-8373-b925d19fb993",
   "metadata": {},
   "outputs": [],
   "source": []
  }
 ],
 "metadata": {
  "kernelspec": {
   "display_name": "Python 3 (ipykernel)",
   "language": "python",
   "name": "python3"
  },
  "language_info": {
   "codemirror_mode": {
    "name": "ipython",
    "version": 3
   },
   "file_extension": ".py",
   "mimetype": "text/x-python",
   "name": "python",
   "nbconvert_exporter": "python",
   "pygments_lexer": "ipython3",
   "version": "3.11.6"
  }
 },
 "nbformat": 4,
 "nbformat_minor": 5
}
