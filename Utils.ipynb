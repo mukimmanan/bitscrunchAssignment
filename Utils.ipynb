{
 "cells": [
  {
   "cell_type": "code",
   "execution_count": 1,
   "id": "6ad00269-42f6-4fcb-a406-8a4ad00ebbf4",
   "metadata": {},
   "outputs": [],
   "source": [
    "import sqlite3"
   ]
  },
  {
   "cell_type": "code",
   "execution_count": 5,
   "id": "05e85ae3-210f-486b-85a4-fa85750aa255",
   "metadata": {},
   "outputs": [],
   "source": [
    "def get_connection():\n",
    "    connection = sqlite3.connect('/home/jovyan/bitscrunch/nft_transactions.db')\n",
    "    return connection, connection.cursor()"
   ]
  },
  {
   "cell_type": "code",
   "execution_count": null,
   "id": "88855cd1-2575-46b5-9f07-87d27ba6ba42",
   "metadata": {},
   "outputs": [],
   "source": []
  }
 ],
 "metadata": {
  "kernelspec": {
   "display_name": "Python 3 (ipykernel)",
   "language": "python",
   "name": "python3"
  },
  "language_info": {
   "codemirror_mode": {
    "name": "ipython",
    "version": 3
   },
   "file_extension": ".py",
   "mimetype": "text/x-python",
   "name": "python",
   "nbconvert_exporter": "python",
   "pygments_lexer": "ipython3",
   "version": "3.11.6"
  }
 },
 "nbformat": 4,
 "nbformat_minor": 5
}
