{
 "cells": [
  {
   "cell_type": "code",
   "execution_count": 8,
   "id": "37928b51-19b4-47bb-8387-ddcfd2d8daf4",
   "metadata": {},
   "outputs": [],
   "source": [
    "%run \"../Utils.ipynb\""
   ]
  },
  {
   "cell_type": "code",
   "execution_count": 9,
   "id": "e5a1cdf3-a142-4680-b629-8a54ae9fd68d",
   "metadata": {},
   "outputs": [],
   "source": [
    "import pandas as pd"
   ]
  },
  {
   "cell_type": "code",
   "execution_count": 12,
   "id": "cdc28c6d-f6bc-40a3-b640-388441f8aa30",
   "metadata": {},
   "outputs": [],
   "source": [
    "def get_result(query, connection):\n",
    "    data = pd.read_sql(query, con=connection)\n",
    "    return data"
   ]
  },
  {
   "cell_type": "code",
   "execution_count": null,
   "id": "0c7fb1b5-570a-4b2b-b4e2-5cc784be8506",
   "metadata": {},
   "outputs": [],
   "source": []
  }
 ],
 "metadata": {
  "kernelspec": {
   "display_name": "Python 3 (ipykernel)",
   "language": "python",
   "name": "python3"
  },
  "language_info": {
   "codemirror_mode": {
    "name": "ipython",
    "version": 3
   },
   "file_extension": ".py",
   "mimetype": "text/x-python",
   "name": "python",
   "nbconvert_exporter": "python",
   "pygments_lexer": "ipython3",
   "version": "3.11.6"
  }
 },
 "nbformat": 4,
 "nbformat_minor": 5
}
