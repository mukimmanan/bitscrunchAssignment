{
 "cells": [
  {
   "cell_type": "code",
   "execution_count": 24,
   "id": "59627f29-19d7-4491-89eb-5c8e73fd8050",
   "metadata": {},
   "outputs": [],
   "source": [
    "import pandas as pd\n",
    "import sqlite3"
   ]
  },
  {
   "cell_type": "code",
   "execution_count": 25,
   "id": "d159754f-beb3-466b-aa30-1cfc85d711b3",
   "metadata": {},
   "outputs": [],
   "source": [
    "%run \"../Part 2/Dummy Data.ipynb\""
   ]
  },
  {
   "cell_type": "code",
   "execution_count": 26,
   "id": "f0c4c54a-fdea-48b5-b3aa-460e21e4157f",
   "metadata": {},
   "outputs": [],
   "source": [
    "%run \"../Part 2/Generate Transactions.ipynb\""
   ]
  },
  {
   "cell_type": "code",
   "execution_count": 27,
   "id": "add19e3f-5d3f-4cef-bc60-e5555e6857d3",
   "metadata": {},
   "outputs": [],
   "source": [
    "%run \"../Utils.ipynb\""
   ]
  },
  {
   "cell_type": "code",
   "execution_count": 28,
   "id": "cd845b33-02f5-4954-8746-5de13d1c37d7",
   "metadata": {},
   "outputs": [],
   "source": [
    "transactions = generate_transactions(5000, False)"
   ]
  },
  {
   "cell_type": "code",
   "execution_count": 29,
   "id": "635a7437-9143-4ecd-b878-eed640920863",
   "metadata": {},
   "outputs": [
    {
     "name": "stdout",
     "output_type": "stream",
     "text": [
      "Dummy Transaction: {'transaction_id': '28cb857a-5ff5-4dda-9c6b-fc117e48c33a', 'contract_address': '0x250e16aa9f8a4515ff0f4316a6869c25889ef6a3', 'token_id': 'f771e2b0-7017-47c4-bafd-bda5a9a36ce3', 'buyer_address': '0x28714778b6ce5aa39d5d12ee032677310d2a801b', 'seller_address': '0x3c9ff9324a807226eb9d440063d4ddcac2a5793d', 'price': 9.2, 'chain_id': 'ecb10d8c-d51a-4c41-a55c-0124c1d5934b', 'timestamp': datetime.datetime(2025, 1, 25, 1, 43, 54, 658152)}\n"
     ]
    }
   ],
   "source": [
    "print(\"Dummy Transaction:\", transactions[0])"
   ]
  },
  {
   "cell_type": "code",
   "execution_count": 30,
   "id": "27414c5c-0540-40d1-b0be-17251c02f27c",
   "metadata": {},
   "outputs": [],
   "source": [
    "data = pd.DataFrame.from_records(transactions)"
   ]
  },
  {
   "cell_type": "code",
   "execution_count": 31,
   "id": "b7451305-7233-414a-a0c0-a847fbae751c",
   "metadata": {},
   "outputs": [],
   "source": [
    "connection = get_connection()[0]"
   ]
  },
  {
   "cell_type": "code",
   "execution_count": 32,
   "id": "99d4607c-6e56-40fc-ae5f-31f40ac24322",
   "metadata": {},
   "outputs": [
    {
     "data": {
      "text/plain": [
       "50000"
      ]
     },
     "execution_count": 32,
     "metadata": {},
     "output_type": "execute_result"
    }
   ],
   "source": [
    "data.to_sql(name=\"nft_transactions\", con=connection, if_exists=\"append\", index=False)"
   ]
  },
  {
   "cell_type": "code",
   "execution_count": 33,
   "id": "ad693e40-6ae4-49ad-845c-3eff22d5802f",
   "metadata": {},
   "outputs": [],
   "source": [
    "connection.commit()"
   ]
  },
  {
   "cell_type": "code",
   "execution_count": null,
   "id": "5f742a9c-7557-4d30-bb96-d4ca4b50996f",
   "metadata": {},
   "outputs": [],
   "source": []
  }
 ],
 "metadata": {
  "kernelspec": {
   "display_name": "Python 3 (ipykernel)",
   "language": "python",
   "name": "python3"
  },
  "language_info": {
   "codemirror_mode": {
    "name": "ipython",
    "version": 3
   },
   "file_extension": ".py",
   "mimetype": "text/x-python",
   "name": "python",
   "nbconvert_exporter": "python",
   "pygments_lexer": "ipython3",
   "version": "3.11.6"
  }
 },
 "nbformat": 4,
 "nbformat_minor": 5
}
