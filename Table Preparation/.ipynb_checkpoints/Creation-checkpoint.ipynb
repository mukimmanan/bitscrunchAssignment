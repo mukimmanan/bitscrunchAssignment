{
 "cells": [
  {
   "cell_type": "code",
   "execution_count": 149,
   "id": "e8f484a8-1f67-4c2a-a769-575195567b47",
   "metadata": {},
   "outputs": [],
   "source": [
    "import sqlite3"
   ]
  },
  {
   "cell_type": "code",
   "execution_count": 150,
   "id": "947f75b4-98cf-411c-83e8-d1d283d499ec",
   "metadata": {},
   "outputs": [],
   "source": [
    "%run \"./Utils.ipynb\""
   ]
  },
  {
   "cell_type": "code",
   "execution_count": 151,
   "id": "a402738a-647e-43b3-a4aa-be3c1ac119d9",
   "metadata": {},
   "outputs": [],
   "source": [
    "connection, cursor = get_connection()"
   ]
  },
  {
   "cell_type": "code",
   "execution_count": 152,
   "id": "b67350a7-55bc-4c45-bf6f-efbbea4cf2a5",
   "metadata": {},
   "outputs": [
    {
     "name": "stdout",
     "output_type": "stream",
     "text": [
      "Testing the connection!\n",
      "Sqlite3 Version = 3.43.2\n"
     ]
    }
   ],
   "source": [
    "print(\"Testing the connection!\")\n",
    "\n",
    "cursor.execute(\"SELECT SQLITE_VERSION();\")\n",
    "print(\"Sqlite3 Version =\", cursor.fetchall()[0][0])"
   ]
  },
  {
   "cell_type": "code",
   "execution_count": 153,
   "id": "5f716fd7-b34b-4974-90cd-e43605a75470",
   "metadata": {},
   "outputs": [],
   "source": [
    "table = \"\"\"\n",
    "    CREATE TABLE IF NOT EXISTS nft_transactions (\n",
    "       transaction_id TEXT PRIMARY KEY,\n",
    "       contract_address TEXT,\n",
    "       token_id TEXT,\n",
    "       buyer_address TEXT,\n",
    "       seller_address TEXT,\n",
    "       price REAL,\n",
    "       chain_id TEXT,\n",
    "       timestamp DATETIME\n",
    "   );\n",
    "\"\"\"\n",
    "\n",
    "cursor.execute(table)\n",
    "connection.commit()"
   ]
  },
  {
   "cell_type": "code",
   "execution_count": 155,
   "id": "8f1137cb-cf07-4889-b268-680d0785d61c",
   "metadata": {},
   "outputs": [
    {
     "name": "stdout",
     "output_type": "stream",
     "text": [
      "Total Records = 0\n"
     ]
    }
   ],
   "source": [
    "query = \"\"\"\n",
    "    SELECT COUNT(1) FROM nft_transactions;\n",
    "\"\"\"\n",
    "\n",
    "print(\"Total Records =\", cursor.execute(query).fetchall()[0][0])"
   ]
  },
  {
   "cell_type": "code",
   "execution_count": 156,
   "id": "2485f4f1-fe60-48cb-aba7-a539d8ecac09",
   "metadata": {},
   "outputs": [],
   "source": [
    "connection.close()"
   ]
  },
  {
   "cell_type": "code",
   "execution_count": null,
   "id": "e2bb5ec6-feb8-4952-8a9c-448d6caa88bd",
   "metadata": {},
   "outputs": [],
   "source": []
  }
 ],
 "metadata": {
  "kernelspec": {
   "display_name": "Python 3 (ipykernel)",
   "language": "python",
   "name": "python3"
  },
  "language_info": {
   "codemirror_mode": {
    "name": "ipython",
    "version": 3
   },
   "file_extension": ".py",
   "mimetype": "text/x-python",
   "name": "python",
   "nbconvert_exporter": "python",
   "pygments_lexer": "ipython3",
   "version": "3.11.6"
  }
 },
 "nbformat": 4,
 "nbformat_minor": 5
}
